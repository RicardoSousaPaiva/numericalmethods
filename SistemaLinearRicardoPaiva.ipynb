{
  "nbformat": 4,
  "nbformat_minor": 0,
  "metadata": {
    "kernelspec": {
      "display_name": "Python 3",
      "language": "python",
      "name": "python3"
    },
    "language_info": {
      "codemirror_mode": {
        "name": "ipython",
        "version": 3
      },
      "file_extension": ".py",
      "mimetype": "text/x-python",
      "name": "python",
      "nbconvert_exporter": "python",
      "pygments_lexer": "ipython3",
      "version": "3.6.2"
    },
    "colab": {
      "name": "SistemaLinearRicardoPaiva.ipynb",
      "provenance": [],
      "collapsed_sections": [],
      "include_colab_link": true
    }
  },
  "cells": [
    {
      "cell_type": "markdown",
      "metadata": {
        "id": "view-in-github",
        "colab_type": "text"
      },
      "source": [
        "<a href=\"https://colab.research.google.com/github/RicardoSousaPaiva/numericalmethods/blob/main/SistemaLinearRicardoPaiva.ipynb\" target=\"_parent\"><img src=\"https://colab.research.google.com/assets/colab-badge.svg\" alt=\"Open In Colab\"/></a>"
      ]
    },
    {
      "cell_type": "markdown",
      "metadata": {
        "id": "L3regvOieNLI"
      },
      "source": [
        "INSTITUTO NACIONAL DE PESQUISAS ESPACIAIS<br/>\n",
        "Métodos númericos 1<br/>\n",
        "Professor: Dr. Leonardo B. L. Santos <br/>\n",
        "Aluno: Ricardo Sousa de Paiva \n",
        "<br/>\n",
        "<h1 align=\"center\">SISTEMAS LINEARES</h1>\n",
        "\n"
      ]
    },
    {
      "cell_type": "markdown",
      "metadata": {
        "id": "rrk8d3NPIobr"
      },
      "source": [
        "MOTIVAÇÃO <br/>\n",
        "\n",
        "`De acordo com a equação diferencial:`\n",
        "\n",
        "\n",
        "<h3 align=\"center\">  $  \\nabla ² \\phi =  \\frac{d² \\phi}{dx²}  $ <h3/>\n",
        "\n",
        "`E a grade:`\n",
        "\n",
        "$ Z_i =0 \\hspace{0,5cm} 0,2 \\hspace{0,5cm} 0,4 \\hspace{0,5cm} 0,6 \\hspace{0,5cm}0,8\\hspace{0,5cm} 1,0 $\n",
        "\n",
        "$ i=0 \\hspace{0,5cm} 1 \\hspace{0,5cm}2 \\hspace{0,5cm} 3 \\hspace{0,5cm} 4 \\hspace{0,5cm}5\\hspace{0,5cm} 6 $\n",
        "\n",
        "`Através da discretização laplaciana, chegamos:`<br/>\n",
        "<h3 align=\"center\"> $ \\nabla ²  \\phi =  \\frac{d² \\phi}{dx²} \\approx \\frac{\\phi_{i-1} -2 \\phi_{i+1}}{\\nabla Z²}  $ <h3/>\n",
        "\n",
        "`Uma questão que dever ser obeservada:` <br/>\n",
        "<h3 align=\"center\"> $ \\phi (z)  \\hspace{0,5cm}$ é a solução exata  <br/>\n",
        "$ \\phi(zi) \t\\equiv \\phi_i  \\hspace{0,5cm}$ é a solução aproximada <h3/>\n"
      ]
    },
    {
      "cell_type": "markdown",
      "metadata": {
        "id": "veufvSAX_Skl"
      },
      "source": [
        " Depois da discretização da equação diferencial, obtemos um sistema de equações que é representado matricialmente da seguinte forma: \n",
        "<br/>\n",
        "<h3 align=\"center\"> $\\left[\\begin{array}{rrr}\n",
        "-2& 1 & 0 & 0\\\\\n",
        "1& -2 & 1 & 0\\\\\n",
        "0&  1 & -2 & 1\\\\\n",
        "0&  0 & 1 & -2\\\\\n",
        "\\end{array}\\right] \\left[\\begin{array}{c}\n",
        "\t\\phi _1\\\\\n",
        "\\phi _2\\\\\n",
        "\\phi _3\\\\\n",
        "\\phi _4\\\\\n",
        "\\end{array}\\right] = 2 \t\\Delta z^2 \\left[\\begin{array}{r}\n",
        "1\\\\\n",
        "1\\\\\n",
        "1\\\\\n",
        "1\\\\\n",
        "\\end{array}\\right] $ <h3/>\n",
        "<br/>\n",
        "Dado essa equação matricial, resta descobrir os valores de <br/>\n",
        " <h3 align=\"center\"> $ \\hspace{0,5cm}\\phi_1 \\hspace{0,5cm} \\phi_2 \\hspace{0,5cm} \\phi_3 \\hspace{0,5cm} \\phi_4 \\hspace{0,5cm} \\phi_5 $ <h3/>"
      ]
    },
    {
      "cell_type": "markdown",
      "metadata": {
        "id": "F4iITqdELFio"
      },
      "source": [
        "Existe um modo de calcular um sistema linear sem precisar calcular a inversa da matriz dos coefiecientes do sistema: \n",
        "\n",
        "<h3 align=\"center\"> PELO MÉTODO DA ELIMINAÇÃO DE GASS <h3/>\n",
        "\n",
        "O método consiste em transformar o sistema linear original em um sistema linear equivalente com matriz dos coeficientes triangular superior. A equação original é manipulada até apresentar a forma triangular superior.\n",
        "\n",
        "A ideia é percorrer a matriz A por coluna e transformar em zero os elementos  que estão abaixo da diagonal principal.\n",
        "Essa ideia segue estes dois princípios:<br>\n",
        "`Como tornar qualquer número (não nulo e finito) igual a 1?` <br/>\n",
        "RESPOSTA: Dididindo por ele mesmo.<br/>\n",
        "<h3 align=\"center\"> $ \\frac{n}{n} = 1 $ <h3/>\n",
        "\n",
        "`Como tornar qualquer número (finito) nulo?`<br/>\n",
        "RESPOSTA: Somar o número pela diferença dele mesmo. <br/>\n",
        "<h3 align=\"center\"> $ n + (-n) $ <h3/>\n",
        "\n",
        "\n",
        "\n"
      ]
    },
    {
      "cell_type": "markdown",
      "metadata": {
        "id": "VU09jLr4PBhu"
      },
      "source": [
        "<h3 align=\"center\"> IMPLEMENTAÇÃO <h3/>\n",
        "\n"
      ]
    },
    {
      "cell_type": "markdown",
      "metadata": {
        "id": "uV5-WjcBQ1ro"
      },
      "source": [
        "É necessário, em primeiro momento, implementar uma função que aplique as substituições retroativas para obter a solução do sistema triangular superior obtido pelo método de Gass.\n",
        "Fórmula geral para a solução usando a substituição retroativa:\n",
        "<h3 align=\"center\">\n",
        "$\n",
        "x_i = \\frac{b_i - \\displaystyle \\sum_{j=i+1}^{n} a_{ij}x_j}{a_{ii}}, i = n, n-1, \\dots, 1.\n",
        "$\n",
        "<h3/>\n",
        "\n",
        "Iremos implementar essa fórmula no código abaixo:"
      ]
    },
    {
      "cell_type": "code",
      "metadata": {
        "id": "DTAiSDTXIobr"
      },
      "source": [
        "def substituicoes_retroativas(A, b): #Parametros de entradas serão a matriz 'A' e o vetor 'b'\n",
        "    ## n é a ordem da matriz A\n",
        "    n = len(A) # função retorna o numero de lista que a matriz contém\n",
        "    \n",
        "    ## inicializa o vetor x com tamanho n e elementos iguais a 0\n",
        "    x = n * [0] \n",
        "    \n",
        "    for i in range(n-1, -1,-1): # Irá percorrer as linhas em ordem decrescente (ultimo elemento até o primeiro)\n",
        "      S= 0 # Variavel somatorio\n",
        "      for j in range(i+1, n): # Coloco n para ser acessado até o ultimo elemento 'n-1'\n",
        "        S= S + A[i][j] * x[j]\n",
        "      x[i]= (b[i] - S)/A[i][i]\n",
        "    \n",
        "    return x #Parametro de saída"
      ],
      "execution_count": null,
      "outputs": []
    },
    {
      "cell_type": "markdown",
      "metadata": {
        "id": "kWJPwW2jIob3"
      },
      "source": [
        "### Método de  eliminação de Gauss\n",
        "No caso do método de Gass devemos supor que det(A) $\\neq $ 0 <br/>\n",
        "A estratégica é a eliminação por colunas. No código, coluna será designado k. Linha será i e o j para as colunas de uma linha da matriz.  "
      ]
    },
    {
      "cell_type": "code",
      "metadata": {
        "id": "v05wAZreIob4"
      },
      "source": [
        "def gauss(A, b):\n",
        "    #função que ler a quantidade de lista da matriz A\n",
        "    n = len(A) \n",
        "    # Primeira 'for' percorre da primeira até a ultima coluna\n",
        "    for k in range(0, n-1): \n",
        "        # Para cada linha i que está abaixo da diagonal principal\n",
        "        for i in range(k+1, n):\n",
        "            # Calcula o fator m\n",
        "            m= - A[i][k]/A[k][k]\n",
        "            \n",
        "            for j in range(k+1,n): #Pecorre a linha i de todas as colunas j\n",
        "              A[i][j]= m * A[k][j] + A[i][j] #Coloca o novo elemento \n",
        "            # Atualiza o vetor b na linha i\n",
        "            b[i]= m * b[k] + b[i]\n",
        "            # Zera o elemento A[i][k] somente depois que ele foi utilizado no 'fator m'\n",
        "            A[i][k]=0\n",
        "    # Depois resolve a solução do sistema triangular superior usando as substituições retroativas\n",
        "    x = substituicoes_retroativas(A, b) # Quando chama função, matriz 'A' já está transformada em TS\n",
        "    return x # Retorna o vetor solução"
      ],
      "execution_count": null,
      "outputs": []
    },
    {
      "cell_type": "markdown",
      "metadata": {
        "id": "UqaKdEUdS9Ev"
      },
      "source": [
        "<h3 align=\"center\"> APLICAÇÃO NOS EXERCÍCIOS PROPOSTOS <h3/>\n",
        " \n"
      ]
    },
    {
      "cell_type": "markdown",
      "metadata": {
        "id": "vNZbkpeiDo4p"
      },
      "source": [
        "`QUESTÃO 1`<br/>\n",
        "<h3 align=\"center\">$\\left[\\begin{array}{rrr}\n",
        "-2& 1 & 0 & 0\\\\\n",
        "1& -2 & 1 & 0\\\\\n",
        "0&  1 & -2 & 1\\\\\n",
        "0&  0 & 1 & -2\\\\\n",
        "\\end{array}\\right] \\left[\\begin{array}{c}\n",
        "\t\\phi _1\\\\\n",
        "\\phi _2\\\\\n",
        "\\phi _3\\\\\n",
        "\\phi _4\\\\\n",
        "\\end{array}\\right] = 2 \t\\Delta z^2 \\left[\\begin{array}{r}\n",
        "1\\\\\n",
        "1\\\\\n",
        "1\\\\\n",
        "1\\\\\n",
        "\\end{array}\\right] $ <h3/>"
      ]
    },
    {
      "cell_type": "code",
      "metadata": {
        "colab": {
          "base_uri": "https://localhost:8080/"
        },
        "id": "nFRtVgmeD4Zd",
        "outputId": "0899c911-d6b0-4332-fd14-09ce015689f8"
      },
      "source": [
        "A1 = [[-2, 1, 0, 0],\n",
        "     [1, -2, 1, 0],\n",
        "     [0, 1, -2, 1],\n",
        "     [0, 0, 1, -2]]\n",
        "b1 = [1, 1, 1, 1]\n",
        "x = gauss(A1, b1)\n",
        "print(x)"
      ],
      "execution_count": null,
      "outputs": [
        {
          "output_type": "stream",
          "text": [
            "[-2.0, -3.0, -2.9999999999999996, -2.0]\n"
          ],
          "name": "stdout"
        }
      ]
    },
    {
      "cell_type": "markdown",
      "metadata": {
        "id": "AyH-3HyNLG7Q"
      },
      "source": [
        "```\n",
        "VETOR SOLUÇÃO DA QUESTÃO 1: [ -2, -3, -2, -2 ]\n",
        "``` "
      ]
    },
    {
      "cell_type": "markdown",
      "metadata": {
        "id": "Grfl72vBDc9c"
      },
      "source": [
        "`QUESTÃO 2`<br/>\n",
        "<h3 align=\"center\"> $\\left[\\begin{array}{rrr}\n",
        "1& -1 & 2 \\\\\n",
        "2& 1 & -1 \\\\\n",
        "-2&  -5 & 3\\\\\n",
        "\\end{array}\\right] \\left[\\begin{array}{c}\n",
        "x_1\\\\\n",
        "x_2\\\\\n",
        "x_3\\\\\n",
        "\\end{array}\\right] =\\left[\\begin{array}{r}\n",
        "2\\\\\n",
        "1\\\\\n",
        "3\\\\\n",
        "\\end{array}\\right] $ <h3/>"
      ]
    },
    {
      "cell_type": "code",
      "metadata": {
        "colab": {
          "base_uri": "https://localhost:8080/"
        },
        "id": "OaOprxnqU99U",
        "outputId": "e3190df2-7871-4112-c977-df2c8d42d664"
      },
      "source": [
        "A1 = [[1, -1, 2],\n",
        "     [2, 1, -1],\n",
        "     [-2, -5, 3]]\n",
        "b1 = [2, 1, 3]\n",
        "x = gauss(A1, b1)\n",
        "print(x)"
      ],
      "execution_count": null,
      "outputs": [
        {
          "output_type": "stream",
          "text": [
            "[1.0, -1.0, -0.0]\n"
          ],
          "name": "stdout"
        }
      ]
    },
    {
      "cell_type": "markdown",
      "metadata": {
        "id": "jFTlH-gfKVLh"
      },
      "source": [
        "```\n",
        "VETOR SOLUÇÃO DA QUESTÃO 2: [ 1, -1, 0 ]\n",
        "```"
      ]
    },
    {
      "cell_type": "markdown",
      "metadata": {
        "id": "X1RR8gjuuzTg"
      },
      "source": [
        "### REFERÊNCIAS\n",
        "\n",
        "Método de Eliminação de Gauss In:  LOPES, Vera Lucia da Rocha; RUGGIERO, Márcia A. Gomes. `Cálculo númerico`: Aspectos teórico e computacionais. Ed. Pearson Universidades: p. 119-126. <br/>\n",
        "\n",
        "Método de eliminação de Gauss In: SUBRAMANIAM,Vish; GILAT, Amos. `Métodos números para engenheiros e cientistas`: uma introdução com aplicação usando o Matlab. Trad. Alberto Resende de Conti. Porto Alegre: Bookman,2008.p.  116-126.\n",
        "\n",
        "`Ideia geral do Método da Eliminação de Gauss`\n",
        ", 11 sept. 2020. 1 vídeo (24 min 40s). Publicado pelo canal Emanuele Santos. Disponível em: https://www.youtube.com/watch?v=hNoa8LIfSIo&list=PLomBG50UAP0m9ukqkap2GqlPXOBUq8FaL&index=18 Acesso em: 23 Apr. 2021.<br/>\n",
        "\n",
        "`Sistemas Lineares - provocações`\n",
        ", 20 Apr. 2021. 1 vídeo (15 min 29s). Publicado pelo canal Leonardo Santos. Disponível em: https://www.youtube.com/watch?v=nkGwpeFhg5c&t=678s Acesso em: 21 Apr. 2021.\n",
        "'''"
      ]
    }
  ]
}