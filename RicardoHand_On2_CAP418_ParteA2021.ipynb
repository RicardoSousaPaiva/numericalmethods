{
  "nbformat": 4,
  "nbformat_minor": 0,
  "metadata": {
    "colab": {
      "name": "RicardoHand-On2-CAP418-ParteA2021.ipynb",
      "provenance": [],
      "collapsed_sections": [],
      "include_colab_link": true
    },
    "kernelspec": {
      "name": "python3",
      "display_name": "Python 3"
    }
  },
  "cells": [
    {
      "cell_type": "markdown",
      "metadata": {
        "id": "view-in-github",
        "colab_type": "text"
      },
      "source": [
        "<a href=\"https://colab.research.google.com/github/RicardoSousaPaiva/numericalmethods/blob/main/RicardoHand_On2_CAP418_ParteA2021.ipynb\" target=\"_parent\"><img src=\"https://colab.research.google.com/assets/colab-badge.svg\" alt=\"Open In Colab\"/></a>"
      ]
    },
    {
      "cell_type": "markdown",
      "metadata": {
        "id": "qSZuGyDSEhae"
      },
      "source": [
        "INSTITUTO NACIONAL DE PESQUISAS ESPACIAIS<br/>\n",
        "Métodos numéricos 1<br/>\n",
        "Professor: Dr. Reinaldo Roberto Rosa<br/>\n",
        "Aluno: Ricardo Sousa de Paiva <br/>"
      ]
    },
    {
      "cell_type": "markdown",
      "metadata": {
        "id": "JxsUgs2qKcUX"
      },
      "source": [
        "## CAP418 - HANDS-ON #02 \n"
      ]
    },
    {
      "cell_type": "markdown",
      "metadata": {
        "id": "yFoI3vGLforw"
      },
      "source": [
        "**Métodos para Encontrar Raízes de Funções Escalares**"
      ]
    },
    {
      "cell_type": "markdown",
      "metadata": {
        "id": "xkWLLi3iMrTT"
      },
      "source": [
        "================================================================================\n",
        "\n",
        "\n",
        "CONSIDERE AS SEGUINTES FUNÇÕES ABAIXO:  \n",
        "\n",
        "$\n",
        "1) f(x)=x-cos(x)\n",
        "$\n",
        "\n",
        "$\n",
        "2) f(x)=x^{3}-9x+5\n",
        "$\n",
        "\n",
        "$\n",
        "3) f(x)=x(3-x^2)/2 \n",
        "$\n",
        "\n",
        "$\n",
        "4) f(x)=(x^4-10x^2)exp(-x)+1 \n",
        "$\n",
        "\n",
        "==========\n",
        "\n",
        "\n",
        "A) PARA CADA UMA DELAS CONSIDERE O INTERVALO [-1,2] PARA BUSCAR O VALOR DE UMA DETERMINADA RAIZ COM PRECISÃO DE  **10ˆ(-6)** e **50** ITERAÇÕES.\n",
        "\n",
        "B) APLIQUE EM CADA UMA OS MÉTODOS DE **(I)** *NEWTON-RAPHSON*, **(II)** *SECANTE* E **(III)** *BISSECÇÃO* \n",
        "\n",
        "C) PLOTE O VALOR DA RAIZ (X_k) COMO FUNÇÃO DO NÚMERO DE ITERAÇÕES. \n",
        "PARA CADA FUNÇÃO PLOTE AS CURVAS DE CADA MÉTODO COM DIFERENTES CORES: I(red), II(green) e III(blue).  \n",
        "AVALIE QUAL DOS TRÊS MÉTODOS CONVERGE MAIS RAPIDAMENTE EM CADA EXPERIMENTO.\n",
        "\n",
        "PS: São fornecidos módulos para cada um dos métodos. Entretanto, você pode uniformizar os estilos de input e output para facilitar o hands-on. Isso será levado em conta na avaliação do Hands-On.\n",
        "\n",
        "================================================================================\n"
      ]
    },
    {
      "cell_type": "markdown",
      "metadata": {
        "id": "TdqGRMI-cXUu"
      },
      "source": [
        "\n",
        "### Implementação das Funções de cada **método numérico**:"
      ]
    },
    {
      "cell_type": "code",
      "metadata": {
        "id": "LcCgrERBJyBR"
      },
      "source": [
        "import matplotlib.pyplot as plt\n",
        "from matplotlib import pyplot\n",
        "import numpy as np\n",
        "%matplotlib inline\n",
        "import seaborn as sns\n",
        "import math \n",
        "import scipy"
      ],
      "execution_count": null,
      "outputs": []
    },
    {
      "cell_type": "code",
      "metadata": {
        "id": "8SFvZGAMSDmh"
      },
      "source": [
        "#Método Newton-Raphson\n",
        "epsilon: 1.0e-6\n",
        "max_iter:50\n",
        "def newton(f,Df,x0,epsilon,max_iter):\n",
        "  global count_RootN\n",
        "  count_RootN=[]\n",
        "  global count_IntN\n",
        "  count_IntN=[]\n",
        "  count_IntN.append(1)\n",
        "  global cont_IntN\n",
        "  xn = x0\n",
        "  for n in range(0,max_iter):\n",
        "        fxn = f(xn)\n",
        "        count_RootN.append(abs(f(xn)))\n",
        "        IntN= n\n",
        "        count_IntN.append(IntN)\n",
        "        if abs(fxn) < epsilon:\n",
        "          print('Solução encontrada depois de',n,'interações.')\n",
        "          print('Raiz:', xn)\n",
        "          return xn, count_RootN,count_IntN\n",
        "        Dfxn = Df(xn)\n",
        "        if Dfxn == 0:\n",
        "            print('Derivada zero. Nenhuma raiz encontrada.')\n",
        "            return None\n",
        "        xn = xn - fxn/Dfxn\n",
        "  print('Excedeu o máximo de interações. Nenhuma raiz encontrada.')\n",
        "  return None\n",
        "    "
      ],
      "execution_count": null,
      "outputs": []
    },
    {
      "cell_type": "code",
      "metadata": {
        "id": "eNl8RpV0Sbkw"
      },
      "source": [
        "#Método Secante\n",
        "def secante(f,a,b,max_iter):\n",
        "  global count_RootS\n",
        "  count_RootS=[]\n",
        "  global count_IntS\n",
        "  count_IntS=[]\n",
        "  count_IntS.append(1)\n",
        "  if f(a)*f(b) >= 0:\n",
        "        print('Nada encontrado!')\n",
        "        return None\n",
        "  a_n = a\n",
        "  b_n = b\n",
        "  for n in range(1,max_iter+1):\n",
        "        m_n = a_n - f(a_n)*(b_n - a_n)/(f(b_n) - f(a_n))\n",
        "        f_m_n = f(m_n)\n",
        "        if f(a_n)*f_m_n < 0:\n",
        "            a_n = a_n\n",
        "            b_n = m_n\n",
        "        elif f(b_n)*f_m_n < 0:\n",
        "            a_n = m_n\n",
        "            b_n = b_n\n",
        "        elif f_m_n == 0:\n",
        "            print('Solução encontrada depois de',n,'interações.')\n",
        "            print('Raiz', m_n)\n",
        "            count_RootS.append(abs(f(m_n)))\n",
        "            IntS= n\n",
        "            count_IntS.append(IntS)\n",
        "            return m_n, count_RootS, count_IntS\n",
        "        else:\n",
        "            print('Nada encontrado!')\n",
        "            return None\n",
        "  return a_n - f(a_n)*(b_n - a_n)/(f(b_n) - f(a_n))"
      ],
      "execution_count": null,
      "outputs": []
    },
    {
      "cell_type": "code",
      "metadata": {
        "id": "nPI8YAKg9rCs"
      },
      "source": [
        "#Método Bissecção\n",
        "def bisseccao(f,a,b,max_iter):\n",
        "  global count_RootB\n",
        "  count_RootB=[]\n",
        "  global count_IntB\n",
        "  count_IntB=[]\n",
        "  count_IntB.append(1)\n",
        "  if f(a)*f(b) >= 0:\n",
        "        print('Nada encontrado!')\n",
        "        return None\n",
        "  a_n = a\n",
        "  b_n = b\n",
        "  for n in range(1,max_iter+1):\n",
        "    m_n = (a_n + b_n)/2\n",
        "    f_m_n = f(m_n)\n",
        "    if f(a_n)*f_m_n < 0:\n",
        "      a_n = a_n\n",
        "      b_n = m_n\n",
        "    elif f(b_n)*f_m_n < 0:\n",
        "      a_n = m_n\n",
        "      b_n = b_n\n",
        "    elif f_m_n == 0:\n",
        "      print('Solução encontrada depois de', n, 'interações!')\n",
        "      return m_n,count_RootB,count_IntB\n",
        "        \n",
        "    else:\n",
        "        print('Nada encontrado!')\n",
        "        return None\n",
        "  count_RootB.append(abs(f(m_n)))\n",
        "  IntB= n\n",
        "  count_IntB.append(IntB)\n",
        "  return m_n,count_RootB,count_IntB"
      ],
      "execution_count": null,
      "outputs": []
    },
    {
      "cell_type": "markdown",
      "metadata": {
        "id": "R4ZHyFE0cvah"
      },
      "source": [
        "### Agora, aplicação dos métodos em cada função proposta pelo enunciado.\n",
        "Chamada das funções:"
      ]
    },
    {
      "cell_type": "markdown",
      "metadata": {
        "id": "rgdlhq59hPLl"
      },
      "source": [
        "\n",
        "<h3 align=\"center\"> 1)$ f(x)=x−cos(x) $  </h1>"
      ]
    },
    {
      "cell_type": "markdown",
      "metadata": {
        "id": "3EkR52ZAgmV3"
      },
      "source": [
        "*   Pelo método **Newton-Raphson**:\n"
      ]
    },
    {
      "cell_type": "code",
      "metadata": {
        "colab": {
          "base_uri": "https://localhost:8080/"
        },
        "id": "a7G0_UmudLKB",
        "outputId": "056b6820-43b7-44e9-f8a2-9a19c113f390"
      },
      "source": [
        "f= lambda x: x - math.cos(x)\n",
        "df= lambda x: math.sin(x) + 1 \n",
        "newton(f,df,1,1.0e-6,50)\n",
        "count_RootN1 = count_RootN\n",
        "count_IntN1= count_IntN\n",
        "print(count_RootN1)\n",
        "print(count_IntN1)"
      ],
      "execution_count": null,
      "outputs": [
        {
          "output_type": "stream",
          "text": [
            "Solução encontrada depois de 3 interações.\n",
            "Raiz: 0.739085133385284\n",
            "[0.45969769413186023, 0.018923073822117442, 4.6455898990771516e-05, 2.847205804457076e-10]\n",
            "[1, 0, 1, 2, 3]\n"
          ],
          "name": "stdout"
        }
      ]
    },
    {
      "cell_type": "markdown",
      "metadata": {
        "id": "nE8nx_4jgyww"
      },
      "source": [
        "*   Pelo método **Secante:**"
      ]
    },
    {
      "cell_type": "code",
      "metadata": {
        "colab": {
          "base_uri": "https://localhost:8080/"
        },
        "id": "tE7HEQsDfNYy",
        "outputId": "029c5021-acb7-4975-8edc-b57287171bf0"
      },
      "source": [
        "f = lambda x: x - math.cos(x)\n",
        "secante(f,-1,2,50)\n",
        "count_RootS1= count_RootS\n",
        "count_IntS1= count_IntS\n",
        "print(count_RootS1)\n",
        "print(count_IntS1)"
      ],
      "execution_count": null,
      "outputs": [
        {
          "output_type": "stream",
          "text": [
            "Solução encontrada depois de 20 interações.\n",
            "Raiz 0.7390851332151607\n",
            "[0.0]\n",
            "[1, 20]\n"
          ],
          "name": "stdout"
        }
      ]
    },
    {
      "cell_type": "markdown",
      "metadata": {
        "id": "ECJ8QDuhg_3D"
      },
      "source": [
        "*   Pelo método **Bissecção**:"
      ]
    },
    {
      "cell_type": "code",
      "metadata": {
        "id": "ZlM_lAvnfRaU",
        "colab": {
          "base_uri": "https://localhost:8080/"
        },
        "outputId": "a0580ecf-fdec-4ea3-cd24-7497bd75db04"
      },
      "source": [
        "f = lambda x: x - math.cos(x)\n",
        "raiz= bisseccao(f,-1,2,50)\n",
        "print('Raiz:',raiz)\n",
        "count_RootB1 = count_RootB\n",
        "count_IntB1= count_IntB"
      ],
      "execution_count": null,
      "outputs": [
        {
          "output_type": "stream",
          "text": [
            "Raiz: (0.7390851332151618, [1.887379141862766e-15], [1, 50])\n"
          ],
          "name": "stdout"
        }
      ]
    },
    {
      "cell_type": "markdown",
      "metadata": {
        "id": "IEgrAjT3c0bH"
      },
      "source": [
        "Plotando o gráfico da função $ f(x)=x−cos(x) $"
      ]
    },
    {
      "cell_type": "code",
      "metadata": {
        "colab": {
          "base_uri": "https://localhost:8080/",
          "height": 329
        },
        "id": "758Jtz5UWQya",
        "outputId": "514fe71e-9ed9-4674-c4e8-71b9887f679c"
      },
      "source": [
        "x = np.linspace(0, 2, 100)\n",
        "fig, ax = plt.subplots()  \n",
        "x = np.array([count_RootN1])\n",
        "y= np.array([count_IntN1])\n",
        "ax.plot(x, label='') \n",
        "\n",
        "ax.set_xlabel('Interações')\n",
        " \n",
        " \n",
        "ax.set_title(\"f(x)=x−cos(x)\") \n",
        "ax.legend()\n",
        "\n"
      ],
      "execution_count": null,
      "outputs": [
        {
          "output_type": "stream",
          "text": [
            "No handles with labels found to put in legend.\n"
          ],
          "name": "stderr"
        },
        {
          "output_type": "execute_result",
          "data": {
            "text/plain": [
              "<matplotlib.legend.Legend at 0x7f1121043e10>"
            ]
          },
          "metadata": {
            "tags": []
          },
          "execution_count": 9
        },
        {
          "output_type": "display_data",
          "data": {
            "image/png": "[encoded data removed]",
            "text/plain": [
              "<Figure size 432x288 with 1 Axes>"
            ]
          },
          "metadata": {
            "tags": [],
            "needs_background": "light"
          }
        }
      ]
    },
    {
      "cell_type": "markdown",
      "metadata": {
        "id": "35ilGutoffiA"
      },
      "source": [
        "\n",
        "<h3 align=\"center\"> $ 2) f(x)=x3−9x+5 $  </h1>"
      ]
    },
    {
      "cell_type": "markdown",
      "metadata": {
        "id": "gyyjCclQiLK5"
      },
      "source": [
        "*   Pelo método ***Newton-Raphson***:"
      ]
    },
    {
      "cell_type": "code",
      "metadata": {
        "colab": {
          "base_uri": "https://localhost:8080/"
        },
        "id": "qkuMdnx6iPA0",
        "outputId": "d79c34c2-77cc-4c2e-e700-d5a8aee53bf4"
      },
      "source": [
        "f= lambda x: x**3 - 9*x + 5\n",
        "df= lambda x: 3*x**2 - 9 \n",
        "newton(f,df,1,1.0e-6,50)"
      ],
      "execution_count": null,
      "outputs": [
        {
          "output_type": "stream",
          "text": [
            "Solução encontrada depois de 4 interações.\n",
            "Raiz: 0.5768875239163237\n"
          ],
          "name": "stdout"
        },
        {
          "output_type": "execute_result",
          "data": {
            "text/plain": [
              "(0.5768875239163237,\n",
              " [3,\n",
              "  0.625,\n",
              "  0.009043604084925327,\n",
              "  2.2057179300816188e-06,\n",
              "  1.3145040611561853e-13],\n",
              " [1, 0, 1, 2, 3, 4])"
            ]
          },
          "metadata": {
            "tags": []
          },
          "execution_count": 10
        }
      ]
    },
    {
      "cell_type": "markdown",
      "metadata": {
        "id": "K31x37JZijYY"
      },
      "source": [
        "*   Pelo método **Secante**:"
      ]
    },
    {
      "cell_type": "code",
      "metadata": {
        "colab": {
          "base_uri": "https://localhost:8080/"
        },
        "id": "Q-MEM6Rni3EG",
        "outputId": "53f8f2dd-7282-46ef-f28f-66ef0abb54ac"
      },
      "source": [
        "f = lambda x: x**3 - 9*x + 5\n",
        "secante(f,-1,2,50)"
      ],
      "execution_count": null,
      "outputs": [
        {
          "output_type": "execute_result",
          "data": {
            "text/plain": [
              "0.5768875239163402"
            ]
          },
          "metadata": {
            "tags": []
          },
          "execution_count": 11
        }
      ]
    },
    {
      "cell_type": "markdown",
      "metadata": {
        "id": "IS4KZs__jdMh"
      },
      "source": [
        "*   Pelo método **Bissecção**:"
      ]
    },
    {
      "cell_type": "code",
      "metadata": {
        "colab": {
          "base_uri": "https://localhost:8080/"
        },
        "id": "T-RHaktUjjQe",
        "outputId": "7bd876e2-8ddc-458b-f3d6-3a2b2cc5f897"
      },
      "source": [
        "f = lambda x: x**3 - 9*x + 5\n",
        "bisseccao(f,-1,2,50)"
      ],
      "execution_count": null,
      "outputs": [
        {
          "output_type": "execute_result",
          "data": {
            "text/plain": [
              "(0.576887523916338, [1.7763568394002505e-14], [1, 50])"
            ]
          },
          "metadata": {
            "tags": []
          },
          "execution_count": 12
        }
      ]
    },
    {
      "cell_type": "markdown",
      "metadata": {
        "id": "NX0Rrvngjway"
      },
      "source": [
        "<h3 align=\"center\"> $ 3) f(x)=x(3−x2)/2 $  </h1>"
      ]
    },
    {
      "cell_type": "markdown",
      "metadata": {
        "id": "s7mJddLxj9_w"
      },
      "source": [
        "*   Pelo método **Newton-Raphson**:"
      ]
    },
    {
      "cell_type": "code",
      "metadata": {
        "colab": {
          "base_uri": "https://localhost:8080/"
        },
        "id": "AqqY2RzHkKbe",
        "outputId": "afd9645d-b608-40f9-f462-e54bac39c400"
      },
      "source": [
        "f= lambda x: x*(3-x**2)/2\n",
        "df= lambda x: 3*(1 - x**2)/2\n",
        "newton(f,df,1,1.0e-6,50)"
      ],
      "execution_count": null,
      "outputs": [
        {
          "output_type": "stream",
          "text": [
            "Derivada zero. Nenhuma raiz encontrada.\n"
          ],
          "name": "stdout"
        }
      ]
    },
    {
      "cell_type": "markdown",
      "metadata": {
        "id": "FBzpLHexkjZh"
      },
      "source": [
        "*   Pelo método **Secante**:"
      ]
    },
    {
      "cell_type": "code",
      "metadata": {
        "colab": {
          "base_uri": "https://localhost:8080/"
        },
        "id": "ISWAMqHmkp8D",
        "outputId": "ac388344-718a-4031-e663-354eaab8d5f3"
      },
      "source": [
        "f = lambda x: x*(3-x**2)/2\n",
        "secante(f,-1,2,50)"
      ],
      "execution_count": null,
      "outputs": [
        {
          "output_type": "stream",
          "text": [
            "Nada encontrado!\n"
          ],
          "name": "stdout"
        }
      ]
    },
    {
      "cell_type": "markdown",
      "metadata": {
        "id": "1Rl3b6GMk4TE"
      },
      "source": [
        "*   Pelo método **Bissecção**:"
      ]
    },
    {
      "cell_type": "code",
      "metadata": {
        "colab": {
          "base_uri": "https://localhost:8080/"
        },
        "id": "Qd3lboETk-M7",
        "outputId": "56cb6718-6383-4d79-aa79-2cd2479c456b"
      },
      "source": [
        "f = lambda x: x*(3-x**2)/2\n",
        "bisseccao(f,-1,2,50)"
      ],
      "execution_count": null,
      "outputs": [
        {
          "output_type": "stream",
          "text": [
            "Nada encontrado!\n"
          ],
          "name": "stdout"
        }
      ]
    },
    {
      "cell_type": "markdown",
      "metadata": {
        "id": "AEMjdIzJlOgn"
      },
      "source": [
        "\n",
        "<h3 align=\"center\"> $ 4) f(x)=(x4−10x2)exp(−x)+1 $  </h1>"
      ]
    },
    {
      "cell_type": "markdown",
      "metadata": {
        "id": "NlYu5S46ln6j"
      },
      "source": [
        "*   Pelo método **Newton-Raphson**:"
      ]
    },
    {
      "cell_type": "code",
      "metadata": {
        "colab": {
          "base_uri": "https://localhost:8080/"
        },
        "id": "J3Tl2IjAlvG7",
        "outputId": "ee06b353-c327-45fe-be2e-3d52df9c46ae"
      },
      "source": [
        "f= lambda x: (x**4 - 10*x**2)*math.exp(-x) + 1\n",
        "df= lambda x: -x*math.exp(-x)*(x**3 - 4*x**2 - 10*x - 20)\n",
        "newton(f,df,1,1.0e-6,50)"
      ],
      "execution_count": null,
      "outputs": [
        {
          "output_type": "stream",
          "text": [
            "Solução encontrada depois de 47 interações.\n",
            "Raiz: 2.8100543219084777\n"
          ],
          "name": "stdout"
        },
        {
          "output_type": "execute_result",
          "data": {
            "text/plain": [
              "(2.8100543219084777,\n",
              " [2.310914970542981,\n",
              "  2.6985398637236715,\n",
              "  2.8853674684787354,\n",
              "  2.8368293368690467,\n",
              "  2.5886661590438087,\n",
              "  2.2183301107136835,\n",
              "  1.8066139700478772,\n",
              "  1.4134918486381198,\n",
              "  1.0722498621810632,\n",
              "  0.7945446371383238,\n",
              "  0.5785372261330084,\n",
              "  0.4158443070256266,\n",
              "  0.2960996869768868,\n",
              "  0.209407859814712,\n",
              "  0.14737948167382076,\n",
              "  0.10336708677417783,\n",
              "  0.07232180318209891,\n",
              "  0.050514036857772115,\n",
              "  0.035239786217858615,\n",
              "  0.02456346291404854,\n",
              "  0.01711161998196542,\n",
              "  0.011915572983927536,\n",
              "  0.00829497077668706,\n",
              "  0.005773358136783813,\n",
              "  0.00401774205600236,\n",
              "  0.0027957206581528116,\n",
              "  0.0019452543180484838,\n",
              "  0.0013534391701708337,\n",
              "  0.0009416445508045879,\n",
              "  0.0006551269192849318,\n",
              "  0.00045578189321671125,\n",
              "  0.0003170910199470356,\n",
              "  0.00022060101913545793,\n",
              "  0.00015347187103476045,\n",
              "  0.00010676980812474035,\n",
              "  7.427916694213721e-05,\n",
              "  5.1675514896931674e-05,\n",
              "  3.5950262226913665e-05,\n",
              "  2.5010302116434957e-05,\n",
              "  1.739945129464182e-05,\n",
              "  1.2104643021926265e-05,\n",
              "  8.421089704668816e-06,\n",
              "  5.858474086739562e-06,\n",
              "  4.075685571480747e-06,\n",
              "  2.835416015756209e-06,\n",
              "  1.9725720472596464e-06,\n",
              "  1.3722996126119824e-06,\n",
              "  9.54695756005819e-07],\n",
              " [1,\n",
              "  0,\n",
              "  1,\n",
              "  2,\n",
              "  3,\n",
              "  4,\n",
              "  5,\n",
              "  6,\n",
              "  7,\n",
              "  8,\n",
              "  9,\n",
              "  10,\n",
              "  11,\n",
              "  12,\n",
              "  13,\n",
              "  14,\n",
              "  15,\n",
              "  16,\n",
              "  17,\n",
              "  18,\n",
              "  19,\n",
              "  20,\n",
              "  21,\n",
              "  22,\n",
              "  23,\n",
              "  24,\n",
              "  25,\n",
              "  26,\n",
              "  27,\n",
              "  28,\n",
              "  29,\n",
              "  30,\n",
              "  31,\n",
              "  32,\n",
              "  33,\n",
              "  34,\n",
              "  35,\n",
              "  36,\n",
              "  37,\n",
              "  38,\n",
              "  39,\n",
              "  40,\n",
              "  41,\n",
              "  42,\n",
              "  43,\n",
              "  44,\n",
              "  45,\n",
              "  46,\n",
              "  47])"
            ]
          },
          "metadata": {
            "tags": []
          },
          "execution_count": 16
        }
      ]
    },
    {
      "cell_type": "markdown",
      "metadata": {
        "id": "Vyl5zS77mKVR"
      },
      "source": [
        "*   Pelo método **Secante**:"
      ]
    },
    {
      "cell_type": "code",
      "metadata": {
        "colab": {
          "base_uri": "https://localhost:8080/"
        },
        "id": "MHx35irhmfMU",
        "outputId": "a40d4ca9-b3aa-42fa-a02d-bcc9b38dce56"
      },
      "source": [
        "f = lambda x: (x**4 - 10*x**2)*math.exp(-x) + 1\n",
        "secante(f,-1,2,50)"
      ],
      "execution_count": null,
      "outputs": [
        {
          "output_type": "stream",
          "text": [
            "Nada encontrado!\n"
          ],
          "name": "stdout"
        }
      ]
    },
    {
      "cell_type": "markdown",
      "metadata": {
        "id": "vCUUvK7YmuqD"
      },
      "source": [
        "*   Pelo método **Bissecção**:"
      ]
    },
    {
      "cell_type": "code",
      "metadata": {
        "colab": {
          "base_uri": "https://localhost:8080/"
        },
        "id": "9ETsZsq7mz82",
        "outputId": "f59ffa49-f97a-4d0d-f1d5-b7b457b1ee45"
      },
      "source": [
        "f = lambda x: (x**4 - 10*x**2)*math.exp(-x) + 1\n",
        "bisseccao(f,-1,2,50)"
      ],
      "execution_count": null,
      "outputs": [
        {
          "output_type": "stream",
          "text": [
            "Nada encontrado!\n"
          ],
          "name": "stdout"
        }
      ]
    },
    {
      "cell_type": "markdown",
      "metadata": {
        "id": "dK0aRqWCoKH-"
      },
      "source": [
        "<h3 align=\"center\"> $ 5) 4πx-400x^-2 $  </h1>"
      ]
    },
    {
      "cell_type": "markdown",
      "metadata": {
        "id": "ELL0Q5YLBbFF"
      },
      "source": [
        "*   Pelo método **Newton-Raphson**:\n"
      ]
    },
    {
      "cell_type": "code",
      "metadata": {
        "colab": {
          "base_uri": "https://localhost:8080/"
        },
        "id": "5YNE_TzjBewt",
        "outputId": "86c699ac-42b0-4581-8c65-43880e88fe0e"
      },
      "source": [
        "f= lambda x: 4 * 3.14 * x ** -2 \n",
        "df= lambda x: -x*math.exp(-x)*(x**3 - 4*x**2 - 10*x - 20)\n",
        "newton(f,df,1,1.0e-6,50)"
      ],
      "execution_count": null,
      "outputs": [
        {
          "output_type": "stream",
          "text": [
            "Solução encontrada depois de 2 interações.\n",
            "Raiz: 14906.749547522448\n"
          ],
          "name": "stdout"
        },
        {
          "output_type": "execute_result",
          "data": {
            "text/plain": [
              "(14906.749547522448,\n",
              " [12.56, 10494.809517865522, 5.6522808091172775e-08],\n",
              " [1, 0, 1, 2])"
            ]
          },
          "metadata": {
            "tags": []
          },
          "execution_count": 19
        }
      ]
    },
    {
      "cell_type": "markdown",
      "metadata": {
        "id": "NAO21kHXCXUS"
      },
      "source": [
        "*   Pelo método **Secante**:"
      ]
    },
    {
      "cell_type": "code",
      "metadata": {
        "colab": {
          "base_uri": "https://localhost:8080/"
        },
        "id": "ckQ59TabCcYm",
        "outputId": "272c5e4c-0769-4f1e-b9dc-f2db7624014d"
      },
      "source": [
        "f = lambda x: 4 * 3.14 * x ** -2\n",
        "secante(f,-1,2,50)"
      ],
      "execution_count": null,
      "outputs": [
        {
          "output_type": "stream",
          "text": [
            "Nada encontrado!\n"
          ],
          "name": "stdout"
        }
      ]
    },
    {
      "cell_type": "markdown",
      "metadata": {
        "id": "HmnzXlvtDGsw"
      },
      "source": [
        "*   Pelo método **Bissecção**:"
      ]
    },
    {
      "cell_type": "code",
      "metadata": {
        "colab": {
          "base_uri": "https://localhost:8080/"
        },
        "id": "XMMdEefGDJYq",
        "outputId": "5e7fca4d-130a-428e-c865-6a56a161b3f2"
      },
      "source": [
        "f = lambda x: 4 * 3.14 * x ** -2\n",
        "bisseccao(f,-1,2,50)"
      ],
      "execution_count": null,
      "outputs": [
        {
          "output_type": "stream",
          "text": [
            "Nada encontrado!\n"
          ],
          "name": "stdout"
        }
      ]
    }
  ]
}